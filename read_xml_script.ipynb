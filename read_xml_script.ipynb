{
 "cells": [
  {
   "cell_type": "code",
   "execution_count": 129,
   "id": "35cd8979",
   "metadata": {},
   "outputs": [],
   "source": [
    "import tkinter\n",
    "import os\n",
    "import pandas as pd\n",
    "import numpy as np\n",
    "import re\n",
    "from bs4 import BeautifulSoup\n",
    "from tkinter import filedialog"
   ]
  },
  {
   "cell_type": "code",
   "execution_count": 130,
   "id": "dd92fa34",
   "metadata": {},
   "outputs": [],
   "source": [
    "def get_steam_library():\n",
    "    tkinter.Tk().withdraw() # prevents an empty tkinter window from appearing\n",
    "    folder_path = filedialog.askdirectory()\n",
    "    return folder_path"
   ]
  },
  {
   "cell_type": "code",
   "execution_count": 4,
   "id": "e4619db1",
   "metadata": {},
   "outputs": [
    {
     "data": {
      "text/plain": [
       "'S:\\\\SteamLibrary\\\\steamapps\\\\common\\\\Warhammer 40000 Gladius - Relics of War\\\\Data\\\\World\\\\Units\\\\ChaosSpaceMarines'"
      ]
     },
     "execution_count": 4,
     "metadata": {},
     "output_type": "execute_result"
    }
   ],
   "source": [
    "os.getcwd() # 'F:\\\\Bibliothek\\\\Python_Projekte'\n",
    "path = get_steam_library()\n",
    "unit_filepath = path + '\\\\steamapps\\\\common\\\\Warhammer 40000 Gladius - Relics of War\\\\Data\\\\World\\\\Units\\\\ChaosSpaceMarines'\n",
    "icon_filepath = path + '\\\\steamapps\\\\common\\\\Warhammer 40000 Gladius - Relics of War\\\\Data\\\\Video\\\\Textures\\\\Icons\\Attributes'\n",
    "# unit_filepath = 'S:\\\\SteamLibrary\\\\steamapps\\\\common\\\\Warhammer 40000 Gladius - Relics of War\\\\Data\\\\World\\\\Units\\\\ChaosSpaceMarines'\n",
    "# icon_filepath = 'S:\\\\SteamLibrary\\\\steamapps\\\\common\\\\Warhammer 40000 Gladius - Relics of War\\\\Data\\\\Video\\\\Textures\\\\Icons\\Attributes'\n",
    "os.chdir(unit_filepath)\n",
    "os.getcwd()"
   ]
  },
  {
   "cell_type": "code",
   "execution_count": 6,
   "id": "035bf61d",
   "metadata": {},
   "outputs": [
    {
     "data": {
      "text/plain": [
       "['ChaosCultist.xml',\n",
       " 'ChaosLandRaider.xml',\n",
       " 'ChaosLord.xml',\n",
       " 'ChaosRhino.xml',\n",
       " 'ChaosSpaceMarine.xml',\n",
       " 'ChaosSpawn.xml',\n",
       " 'DaemonPrince.xml',\n",
       " 'DarkDisciple.xml',\n",
       " 'Defiler.xml',\n",
       " 'Forgefiend.xml',\n",
       " 'Havoc.xml',\n",
       " 'Headquarters.xml',\n",
       " 'Helbrute.xml',\n",
       " 'Heldrake.xml',\n",
       " 'KhorneBerzerker.xml',\n",
       " 'MasterOfPossession.xml',\n",
       " 'Maulerfiend.xml',\n",
       " 'NoctilithCrown.xml',\n",
       " 'Obliterator.xml',\n",
       " 'Venomcrawler.xml',\n",
       " 'Warpsmith.xml',\n",
       " 'WarpTalon.xml']"
      ]
     },
     "execution_count": 6,
     "metadata": {},
     "output_type": "execute_result"
    }
   ],
   "source": [
    "os.listdir()"
   ]
  },
  {
   "cell_type": "code",
   "execution_count": 106,
   "id": "d8315201",
   "metadata": {},
   "outputs": [],
   "source": [
    "def create_soups():\n",
    "    pot = []\n",
    "    files = os.listdir()\n",
    "    for file in files:\n",
    "        with open(file, 'r') as f:\n",
    "            data = f.read()\n",
    "            soup = BeautifulSoup(data, 'xml')\n",
    "            pot.append(soup)\n",
    "    return pot\n",
    "pot = create_soups()"
   ]
  },
  {
   "cell_type": "code",
   "execution_count": 171,
   "id": "3fbb5b82",
   "metadata": {},
   "outputs": [],
   "source": [
    "unit_stats = ['name','armor', 'hitpointsMax', 'moraleMax', 'movementMax', 'itemSlots', 'cargoSlots','size','rowSize']\n",
    "unit_traits = []\n",
    "unit_costs = ['productionCost','foodCost', 'oreCost', 'energyCost', 'influcenceCost',\n",
    "              'foodUpkeep', 'oreUpkeep', 'energyUpkeep', 'influenceUpkeep']\n",
    "\n",
    "unit_attributes = unit_stats + unit_costs\n",
    "\n",
    "def edit_list(data):\n",
    "    for index, elem in enumerate(data):\n",
    "        data[index] = re.sub(r\"(\\w)([A-Z])\", r\"\\1 \\2\", elem).title().replace(' Max','')\n",
    "    return data"
   ]
  },
  {
   "cell_type": "code",
   "execution_count": 162,
   "id": "399587e2",
   "metadata": {},
   "outputs": [],
   "source": [
    "def get_unit_stats(soup):\n",
    "    stats = {}\n",
    "    name = soup.find_all('unit')[1]\n",
    "    group = soup.find('group')\n",
    "    effect = soup.find('effects')\n",
    "    keys = edit_list(unit_attributes)\n",
    "    for index, s in enumerate(unit_stats + unit_costs):\n",
    "        try:\n",
    "            if s=='name':\n",
    "                stats[keys[index]] = re.sub(r\"(\\w)([A-Z])\", r\"\\1 \\2\", name.attrs['mesh'].split('/')[-1])\n",
    "            elif s=='size': \n",
    "                stats[keys[index]] = group.attrs['size']\n",
    "            elif s=='rowSize': \n",
    "                stats[keys[index]] = group.attrs['rowSize']\n",
    "            else:\n",
    "                stat = effect.find(s)\n",
    "                stats[keys[index]] = stat.attrs['base']\n",
    "        except:\n",
    "            stats[keys[index]] = None;    \n",
    "    return stats         \n",
    "\n",
    "def print_unit_stats(unit):\n",
    "    for key, value in unit.items():    \n",
    "        print(\"{:<15} {:<10} \".format(key, value))   "
   ]
  },
  {
   "cell_type": "code",
   "execution_count": 163,
   "id": "44f7f918",
   "metadata": {},
   "outputs": [
    {
     "data": {
      "text/plain": [
       "{'Name': 'Chaos Lord',\n",
       " 'Armor': '8',\n",
       " 'Hitpoints': '9.0',\n",
       " 'Morale': '12',\n",
       " 'Movement': '3',\n",
       " 'Item Slots': '6',\n",
       " 'Cargo Slots': None,\n",
       " 'Size': None,\n",
       " 'Row Size': None,\n",
       " 'Production Cost': '42.0',\n",
       " 'Food Cost': '30.0',\n",
       " 'Ore Cost': '30.0',\n",
       " 'Energy Cost': None,\n",
       " 'Influcence Cost': None,\n",
       " 'Food Upkeep': '3.0',\n",
       " 'Ore Upkeep': None,\n",
       " 'Energy Upkeep': None,\n",
       " 'Influence Upkeep': '6.0'}"
      ]
     },
     "execution_count": 163,
     "metadata": {},
     "output_type": "execute_result"
    }
   ],
   "source": [
    "get_unit_stats(pot[2])"
   ]
  },
  {
   "cell_type": "code",
   "execution_count": 9,
   "id": "9ce20cb3",
   "metadata": {},
   "outputs": [],
   "source": [
    "def get_unit_traits(soup):\n",
    "    traits = []\n",
    "    soup = soup.find_all('trait')\n",
    "    for trait in soup:\n",
    "        try: # catching a KeyError. Not every trait has the attribute requiredUpgrade\n",
    "            name = trait.attrs['name'].split('/')[-1]\n",
    "            if (trait.attrs['requiredUpgrade']): name = \"Upgrade-\" + name\n",
    "            traits.append(name)\n",
    "        except:\n",
    "            traits.append(name)\n",
    "    return traits"
   ]
  },
  {
   "cell_type": "code",
   "execution_count": 10,
   "id": "a2cc15b3",
   "metadata": {},
   "outputs": [
    {
     "data": {
      "text/plain": [
       "['Upgrade-ExtraVehicleArmour',\n",
       " 'Upgrade-SoulBlaze',\n",
       " 'Tank',\n",
       " 'Transport',\n",
       " 'Vehicle']"
      ]
     },
     "execution_count": 10,
     "metadata": {},
     "output_type": "execute_result"
    }
   ],
   "source": [
    "get_unit_traits(pot[3])"
   ]
  },
  {
   "cell_type": "code",
   "execution_count": 11,
   "id": "4deb7ebd",
   "metadata": {},
   "outputs": [],
   "source": [
    "def get_action_names(soup):\n",
    "    action_names = [] # names\n",
    "    actions = {} # name - details\n",
    "    action_soup = [value for value in soup.find('actions').contents if value != '\\n']\n",
    "    for a in action_soup:\n",
    "        value = a.name\n",
    "        if a.name == 'throwGrenade':\n",
    "            value = a.attrs['weaponSlotName']\n",
    "        if value == 'genericUnitAbility':\n",
    "            value = a.attrs['name'].split('/')[1]\n",
    "        action_names.append(value)\n",
    "    return action_names"
   ]
  },
  {
   "cell_type": "code",
   "execution_count": 12,
   "id": "e1a948a0",
   "metadata": {},
   "outputs": [
    {
     "data": {
      "text/plain": [
       "['attack', 'die', 'move', 'DirgeCaster', 'createSmokeScreen']"
      ]
     },
     "execution_count": 12,
     "metadata": {},
     "output_type": "execute_result"
    }
   ],
   "source": [
    "get_action_names(pot[1])"
   ]
  },
  {
   "cell_type": "code",
   "execution_count": 13,
   "id": "81981f88",
   "metadata": {},
   "outputs": [],
   "source": [
    "def get_weapon_names(soup):\n",
    "    attributes = []\n",
    "    for entry in soup.find_all(name='weapon'):\n",
    "        try:\n",
    "            name = None\n",
    "            name = entry.attrs['name']\n",
    "            if entry.attrs['requiredUpgrade']: attributes.append(\"Upgrade-\" + entry.attrs['name'])\n",
    "        except:\n",
    "            if name: attributes.append(name)\n",
    "            else: continue\n",
    "    return attributes\n",
    "\n",
    "def get_weapon_id(weapon_df, weapon_list):\n",
    "    for weapon in weapon_list:\n",
    "        weapon_df['weapon_list']"
   ]
  },
  {
   "cell_type": "code",
   "execution_count": 14,
   "id": "1ad42ef1",
   "metadata": {},
   "outputs": [
    {
     "data": {
      "text/plain": [
       "['TwinLinkedLascannon',\n",
       " 'TwinLinkedHeavyBolter',\n",
       " 'Upgrade-HavocLauncher',\n",
       " 'DestroyerBlades']"
      ]
     },
     "execution_count": 14,
     "metadata": {},
     "output_type": "execute_result"
    }
   ],
   "source": [
    "get_weapon_names(pot[1])"
   ]
  },
  {
   "cell_type": "code",
   "execution_count": 22,
   "id": "11c16b0e",
   "metadata": {},
   "outputs": [],
   "source": [
    "def extract_data(soup):\n",
    "    stats = get_unit_stats(soup) # dict\n",
    "    weapons = get_weapon_names(soup) # list\n",
    "    actions = get_action_names(soup) # list\n",
    "    stats['weapons'] = weapons\n",
    "    stats['actions'] = actions\n",
    "    return stats"
   ]
  },
  {
   "cell_type": "code",
   "execution_count": 144,
   "id": "8a68db1d",
   "metadata": {},
   "outputs": [],
   "source": [
    "def edit_dict(data):\n",
    "    for key in data.keys():\n",
    "        key = re.sub(r\"(\\w)([A-Z])\", r\"\\1 \\2\", key).title()\n",
    "    return data\n",
    "#edit_names(unit_attributes)"
   ]
  },
  {
   "cell_type": "code",
   "execution_count": 168,
   "id": "5cfea4e7",
   "metadata": {},
   "outputs": [
    {
     "data": {
      "text/html": [
       "<div>\n",
       "<style scoped>\n",
       "    .dataframe tbody tr th:only-of-type {\n",
       "        vertical-align: middle;\n",
       "    }\n",
       "\n",
       "    .dataframe tbody tr th {\n",
       "        vertical-align: top;\n",
       "    }\n",
       "\n",
       "    .dataframe thead th {\n",
       "        text-align: right;\n",
       "    }\n",
       "</style>\n",
       "<table border=\"1\" class=\"dataframe\">\n",
       "  <thead>\n",
       "    <tr style=\"text-align: right;\">\n",
       "      <th></th>\n",
       "      <th>Name</th>\n",
       "      <th>Armor</th>\n",
       "      <th>Hitpoints</th>\n",
       "      <th>Morale</th>\n",
       "      <th>Movement</th>\n",
       "      <th>Item Slots</th>\n",
       "      <th>Cargo Slots</th>\n",
       "      <th>Size</th>\n",
       "      <th>Row Size</th>\n",
       "      <th>Production Cost</th>\n",
       "      <th>Food Cost</th>\n",
       "      <th>Ore Cost</th>\n",
       "      <th>Energy Cost</th>\n",
       "      <th>Influcence Cost</th>\n",
       "      <th>Food Upkeep</th>\n",
       "      <th>Ore Upkeep</th>\n",
       "      <th>Energy Upkeep</th>\n",
       "      <th>Influence Upkeep</th>\n",
       "    </tr>\n",
       "  </thead>\n",
       "  <tbody>\n",
       "    <tr>\n",
       "      <th>0</th>\n",
       "      <td>Chaos Land Raider</td>\n",
       "      <td>10</td>\n",
       "      <td>64.0</td>\n",
       "      <td>12</td>\n",
       "      <td>4</td>\n",
       "      <td>None</td>\n",
       "      <td>3</td>\n",
       "      <td>1</td>\n",
       "      <td>2</td>\n",
       "      <td>60.0</td>\n",
       "      <td>None</td>\n",
       "      <td>160.0</td>\n",
       "      <td>None</td>\n",
       "      <td>None</td>\n",
       "      <td>None</td>\n",
       "      <td>8.0</td>\n",
       "      <td>None</td>\n",
       "      <td>None</td>\n",
       "    </tr>\n",
       "  </tbody>\n",
       "</table>\n",
       "</div>"
      ],
      "text/plain": [
       "                Name Armor Hitpoints Morale Movement Item Slots Cargo Slots  \\\n",
       "0  Chaos Land Raider    10      64.0     12        4       None           3   \n",
       "\n",
       "  Size Row Size Production Cost Food Cost Ore Cost Energy Cost  \\\n",
       "0    1        2            60.0      None    160.0        None   \n",
       "\n",
       "  Influcence Cost Food Upkeep Ore Upkeep Energy Upkeep Influence Upkeep  \n",
       "0            None        None        8.0          None             None  "
      ]
     },
     "execution_count": 168,
     "metadata": {},
     "output_type": "execute_result"
    }
   ],
   "source": [
    "cultist = get_unit_stats(pot[1])\n",
    "c = {'name':\"A\",'test':0}\n",
    "pd.DataFrame(data=[[0,0],[0,0]],columns=[\"a\",\"b\"])\n",
    "pd.DataFrame(cultist, unit_attributes)\n",
    "pd.DataFrame(edit_dict(cultist),[0])"
   ]
  },
  {
   "cell_type": "code",
   "execution_count": 170,
   "id": "7d1510ad",
   "metadata": {},
   "outputs": [
    {
     "data": {
      "text/plain": [
       "<?xml version=\"1.0\" encoding=\"utf-8\"?>\n",
       "<unit dlc=\"Supplement3\">\n",
       "<model>\n",
       "<unit explosionsBone=\"Bone001\" idleAnimation=\"Units/ChaosSpaceMarines/ChaosRhinoIdle\" idleAnimationCount=\"3\" idleContinuously=\"1\" material=\"Units/ChaosSpaceMarines/ChaosRhino\" mesh=\"Units/ChaosSpaceMarines/ChaosRhino\" scale=\"0.9 0.9 0.9\" uvAnimated=\"1\"/>\n",
       "</model>\n",
       "<group memberDeltaX=\"100\" memberDeltaY=\"110\" rowSize=\"2\" size=\"1\"/>\n",
       "<weapons>\n",
       "<weapon name=\"CombiBolter\">\n",
       "<model>\n",
       "<projectileWeapon effectFaceWeight=\"0\" muzzleBone=\".Muzzle\" muzzleCount=\"2\"/>\n",
       "</model>\n",
       "</weapon>\n",
       "<weapon name=\"HavocLauncher\" requiredUpgrade=\"ChaosSpaceMarines/HavocLauncher\">\n",
       "<model>\n",
       "<missileWeapon bone=\"Bone001\" material=\"Units/ChaosSpaceMarines/ChaosRhino\" mesh=\"Weapons/ChaosSpaceMarines/ChaosRhinoHavocLauncher\" missileScale=\"0.5\" muzzleBone=\".Muzzle\" muzzleCount=\"6\"/>\n",
       "</model>\n",
       "</weapon>\n",
       "<weapon name=\"DestroyerBlades\" slotName=\"DestroyerBlades\">\n",
       "<model>\n",
       "<weapon bone=\"Bone001\" material=\"Units/ChaosSpaceMarines/ChaosRhino\" mesh=\"Weapons/ChaosSpaceMarines/ChaosRhinoDestroyerBlades\"/>\n",
       "</model>\n",
       "</weapon>\n",
       "</weapons>\n",
       "<modifiers>\n",
       "<modifier visible=\"0\">\n",
       "<effects>\n",
       "<armor base=\"7\"/> <!-- %armor base armor=11/11/10 -->\n",
       "<cargoSlots base=\"3\"/> <!-- %cargoSlots base capacity=10 -->\n",
       "<hitpointsMax base=\"24.0\"/> <!-- %hitpointsMax base armor=11/11/10 wounds=3 -->\n",
       "<moraleMax base=\"10\"/> <!-- %moraleMax base leadership=8 -->\n",
       "<movementMax base=\"4\"/>\n",
       "<productionCost base=\"30.0\"/> <!-- %productionCost base tier=5 factor=1 -->\n",
       "<rangedAccuracy base=\"8\"/> <!-- %rangedAccuracy base ballisticSkill=4 -->\n",
       "<oreUpkeep base=\"1.5\"/> <!-- %oreUpkeep base tier=5 factor=1 -->\n",
       "<oreCost base=\"30.0\"/> <!-- %oreCost base tier=5 factor=1 -->\n",
       "</effects>\n",
       "</modifier>\n",
       "</modifiers>\n",
       "<strategyModifiers>\n",
       "<modifier>\n",
       "<effects>\n",
       "<increaseVehiclesScore base=\"1.0\"/>\n",
       "</effects>\n",
       "</modifier>\n",
       "</strategyModifiers>\n",
       "<actions>\n",
       "<attack>\n",
       "<model>\n",
       "<action animation=\"Units/ChaosSpaceMarines/ChaosRhinoAttack\" beginFire=\"0.75\" chargeBeginFire=\"0.1\" chargeEndFire=\"1.5\" endFire=\"2.67\"/>\n",
       "</model>\n",
       "</attack>\n",
       "<die>\n",
       "<model>\n",
       "<action animation=\"Units/ChaosSpaceMarines/ChaosRhinoDie\" sound=\"Units/MediumVehicleDie\" soundCount=\"3\" soundDelay=\"0.1\" voiceSound=\"Units/ChaosSpaceMarines/VehicleDie\" voiceSoundCount=\"3\"/>\n",
       "</model>\n",
       "</die>\n",
       "<move>\n",
       "<model>\n",
       "<action animation=\"Units/ChaosSpaceMarines/ChaosRhinoMove\" sound=\"Units/SpaceMarines/TankMove\" soundCount=\"3\"/>\n",
       "</model>\n",
       "</move>\n",
       "<genericUnitAbility name=\"ChaosSpaceMarines/DirgeCaster\" passive=\"1\" requiredUpgrade=\"ChaosSpaceMarines/DirgeCaster\">\n",
       "<beginTargets>\n",
       "<selfTarget>\n",
       "<areas>\n",
       "<area affects=\"Tile\" excludeRadius=\"0\" radius=\"1\">\n",
       "<modifiers>\n",
       "<modifier>\n",
       "<effects>\n",
       "<addTrait name=\"ChaosSpaceMarines/DirgeCaster\"/>\n",
       "</effects>\n",
       "</modifier>\n",
       "</modifiers>\n",
       "</area>\n",
       "</areas>\n",
       "</selfTarget>\n",
       "</beginTargets>\n",
       "</genericUnitAbility>\n",
       "<healingSurge cooldown=\"1\" name=\"ChaosSpaceMarines/SelfRepair\">\n",
       "<model>\n",
       "<action animation=\"\" sound=\"Actions/MechanicalBuff\"/>\n",
       "</model>\n",
       "<beginTargets>\n",
       "<selfTarget>\n",
       "<conditions>\n",
       "<unit>\n",
       "<damaged/>\n",
       "</unit>\n",
       "</conditions>\n",
       "<areas>\n",
       "<area affects=\"Unit\">\n",
       "<modifiers>\n",
       "<modifier>\n",
       "<effects>\n",
       "<hitpoints add=\"6\"/>\n",
       "</effects>\n",
       "</modifier>\n",
       "</modifiers>\n",
       "</area>\n",
       "</areas>\n",
       "</selfTarget>\n",
       "</beginTargets>\n",
       "</healingSurge>\n",
       "<destroyerBlades cooldown=\"1\" visible=\"0\" weaponSlotName=\"DestroyerBlades\">\n",
       "<model>\n",
       "</model>\n",
       "</destroyerBlades>\n",
       "<createSmokeScreen cooldown=\"10\" icon=\"Traits/SmokeScreen\" requiredUpgrade=\"ChaosSpaceMarines/SmokeLauncher\">\n",
       "<model>\n",
       "<action sound=\"Actions/SmokeScreen\"/>\n",
       "</model>\n",
       "<beginTargets>\n",
       "<selfTarget>\n",
       "<areas>\n",
       "<area affects=\"Tile\">\n",
       "<modifiers>\n",
       "<modifier>\n",
       "<effects>\n",
       "<addFeature duration=\"3\" name=\"SmokeScreen\"/>\n",
       "</effects>\n",
       "</modifier>\n",
       "</modifiers>\n",
       "</area>\n",
       "</areas>\n",
       "</selfTarget>\n",
       "</beginTargets>\n",
       "</createSmokeScreen>\n",
       "</actions>\n",
       "<traits>\n",
       "<trait name=\"ExtraVehicleArmour\" requiredUpgrade=\"ChaosSpaceMarines/ExtraVehicleArmour\"/>\n",
       "<trait name=\"SoulBlaze\" requiredUpgrade=\"ChaosSpaceMarines/WarpflameGargoyles\"/>\n",
       "<trait name=\"Tank\"/>\n",
       "<trait name=\"Transport\"/>\n",
       "<trait name=\"Vehicle\"/>\n",
       "</traits>\n",
       "</unit>"
      ]
     },
     "execution_count": 170,
     "metadata": {},
     "output_type": "execute_result"
    }
   ],
   "source": [
    "pot[3]"
   ]
  },
  {
   "cell_type": "code",
   "execution_count": null,
   "id": "0515a0bb",
   "metadata": {},
   "outputs": [],
   "source": []
  }
 ],
 "metadata": {
  "kernelspec": {
   "display_name": "Python 3 (ipykernel)",
   "language": "python",
   "name": "python3"
  },
  "language_info": {
   "codemirror_mode": {
    "name": "ipython",
    "version": 3
   },
   "file_extension": ".py",
   "mimetype": "text/x-python",
   "name": "python",
   "nbconvert_exporter": "python",
   "pygments_lexer": "ipython3",
   "version": "3.8.5"
  }
 },
 "nbformat": 4,
 "nbformat_minor": 5
}
